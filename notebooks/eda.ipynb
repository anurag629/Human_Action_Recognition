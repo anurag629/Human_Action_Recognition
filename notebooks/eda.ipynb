{
 "cells": [
  {
   "cell_type": "code",
   "execution_count": 1,
   "id": "b8b56891",
   "metadata": {
    "_cell_guid": "b1076dfc-b9ad-4769-8c92-a6c4dae69d19",
    "_uuid": "8f2839f25d086af736a60e9eeb907d3b93b6e0e5",
    "execution": {
     "iopub.execute_input": "2024-06-20T17:37:37.194980Z",
     "iopub.status.busy": "2024-06-20T17:37:37.194642Z",
     "iopub.status.idle": "2024-06-20T17:37:39.933553Z",
     "shell.execute_reply": "2024-06-20T17:37:39.931713Z"
    },
    "papermill": {
     "duration": 2.747521,
     "end_time": "2024-06-20T17:37:39.935694",
     "exception": false,
     "start_time": "2024-06-20T17:37:37.188173",
     "status": "completed"
    },
    "tags": []
   },
   "outputs": [
    {
     "name": "stdout",
     "output_type": "stream",
     "text": [
      "6681\n"
     ]
    }
   ],
   "source": [
    "import numpy as np # linear algebra\n",
    "import pandas as pd # data processing, CSV file I/O (e.g. pd.read_csv)\n",
    "\n",
    "import os\n",
    "\n",
    "num = 0\n",
    "for dirname, _, filenames in os.walk('../data/raw/UCF50'):\n",
    "    for filename in filenames:\n",
    "        num +=1\n",
    "print(num)\n",
    "        \n",
    "\n",
    "# You can write up to 20GB to the current directory (/kaggle/working/) that gets preserved as output when you create a version using \"Save & Run All\" \n",
    "# You can also write temporary files to /kaggle/temp/, but they won't be saved outside of the current session"
   ]
  },
  {
   "cell_type": "code",
   "execution_count": 2,
   "id": "1e1ef74c",
   "metadata": {
    "execution": {
     "iopub.execute_input": "2024-06-20T17:37:39.946755Z",
     "iopub.status.busy": "2024-06-20T17:37:39.946256Z",
     "iopub.status.idle": "2024-06-20T17:37:54.471396Z",
     "shell.execute_reply": "2024-06-20T17:37:54.470270Z"
    },
    "papermill": {
     "duration": 14.533219,
     "end_time": "2024-06-20T17:37:54.473655",
     "exception": false,
     "start_time": "2024-06-20T17:37:39.940436",
     "status": "completed"
    },
    "tags": []
   },
   "outputs": [
    {
     "name": "stderr",
     "output_type": "stream",
     "text": [
      "2024-06-20 17:37:44.087213: E external/local_xla/xla/stream_executor/cuda/cuda_dnn.cc:9261] Unable to register cuDNN factory: Attempting to register factory for plugin cuDNN when one has already been registered\n",
      "2024-06-20 17:37:44.087353: E external/local_xla/xla/stream_executor/cuda/cuda_fft.cc:607] Unable to register cuFFT factory: Attempting to register factory for plugin cuFFT when one has already been registered\n",
      "2024-06-20 17:37:44.250951: E external/local_xla/xla/stream_executor/cuda/cuda_blas.cc:1515] Unable to register cuBLAS factory: Attempting to register factory for plugin cuBLAS when one has already been registered\n"
     ]
    }
   ],
   "source": [
    "# model.py\n",
    "import os\n",
    "import numpy as np\n",
    "import cv2\n",
    "from sklearn.model_selection import train_test_split\n",
    "from keras.models import Sequential\n",
    "from keras.layers import Conv2D, MaxPooling2D, Flatten, Dense, Dropout\n",
    "\n"
   ]
  },
  {
   "cell_type": "markdown",
   "id": "8ab7607d",
   "metadata": {
    "papermill": {
     "duration": 0.004169,
     "end_time": "2024-06-20T17:37:54.482561",
     "exception": false,
     "start_time": "2024-06-20T17:37:54.478392",
     "status": "completed"
    },
    "tags": []
   },
   "source": []
  },
  {
   "cell_type": "code",
   "execution_count": 3,
   "id": "f2b10bb2",
   "metadata": {
    "execution": {
     "iopub.execute_input": "2024-06-20T17:37:54.493431Z",
     "iopub.status.busy": "2024-06-20T17:37:54.492814Z",
     "iopub.status.idle": "2024-06-20T17:37:54.503907Z",
     "shell.execute_reply": "2024-06-20T17:37:54.502961Z"
    },
    "papermill": {
     "duration": 0.019168,
     "end_time": "2024-06-20T17:37:54.506233",
     "exception": false,
     "start_time": "2024-06-20T17:37:54.487065",
     "status": "completed"
    },
    "tags": []
   },
   "outputs": [],
   "source": [
    "\n",
    "\n",
    "# Define function to load and preprocess UCF50 dataset\n",
    "def load_ucf50_data(directory, sample_per_vid_passed = 10):\n",
    "    \n",
    "    classes = os.listdir(directory)\n",
    "    num_classes = len(classes)\n",
    "    \n",
    "    class_to_label = {cls: i for i, cls in enumerate(classes)}\n",
    "    X = []\n",
    "    y = []\n",
    "    \n",
    "    # go through all folders (classes)\n",
    "    for cls in classes:\n",
    "        class_dir = os.path.join(directory, cls)\n",
    "        \n",
    "        # go through all video files\n",
    "        for video_file in os.listdir(class_dir):\n",
    "            \n",
    "            # just make sure they are videos :>\n",
    "            if video_file.endswith('.avi'):\n",
    "                \n",
    "                # initialize the counter\n",
    "                sample_per_vid = 0\n",
    "                \n",
    "                video_path = os.path.join(class_dir, video_file)\n",
    "                cap = cv2.VideoCapture(video_path)\n",
    "                \n",
    "                # go through all frames in that video\n",
    "                \n",
    "                while cap.isOpened():\n",
    "                    ret, frame = cap.read()   \n",
    "                    if not ret:\n",
    "                            # ret is an indicator that there is a frame, if not ret, the vid has ended\n",
    "                            #if sample_per_vid < 10:\n",
    "                                # do some action :>\n",
    "                                \n",
    "                            \n",
    "                        break\n",
    "                    \n",
    "                    '''\n",
    "                    each vid, I take only 10 random frames \n",
    "                    '''\n",
    "                    \n",
    "                    if sample_per_vid > (sample_per_vid_passed - 1):\n",
    "                        \n",
    "                        break\n",
    "                        \n",
    "                    if np.random.randint(0,10) > 4:\n",
    "                        \n",
    "                        frame = cv2.resize(frame, (64, 64))\n",
    "                        X.append(frame)\n",
    "                        y.append(class_to_label[cls])\n",
    "                        sample_per_vid += 1\n",
    "                    \n",
    "                        \n",
    "                cap.release()\n",
    "    X = np.array(X)\n",
    "    y = np.array(y)\n",
    "    \n",
    "    # Calculate num_classes\n",
    "    num_classes = len(np.unique(y))\n",
    "    \n",
    "    return X, y\n",
    "    \n"
   ]
  },
  {
   "cell_type": "code",
   "execution_count": 4,
   "id": "0710176f",
   "metadata": {
    "execution": {
     "iopub.execute_input": "2024-06-20T17:37:54.517203Z",
     "iopub.status.busy": "2024-06-20T17:37:54.516736Z",
     "iopub.status.idle": "2024-06-20T17:39:18.433732Z",
     "shell.execute_reply": "2024-06-20T17:39:18.432340Z"
    },
    "papermill": {
     "duration": 83.924957,
     "end_time": "2024-06-20T17:39:18.435957",
     "exception": false,
     "start_time": "2024-06-20T17:37:54.511000",
     "status": "completed"
    },
    "tags": []
   },
   "outputs": [],
   "source": [
    "X, y = load_ucf50_data('/kaggle/input/realistic-action-recognition-ucf50/UCF50')"
   ]
  },
  {
   "cell_type": "code",
   "execution_count": 5,
   "id": "92dbe86f",
   "metadata": {
    "execution": {
     "iopub.execute_input": "2024-06-20T17:39:18.446633Z",
     "iopub.status.busy": "2024-06-20T17:39:18.446294Z",
     "iopub.status.idle": "2024-06-20T17:39:18.452692Z",
     "shell.execute_reply": "2024-06-20T17:39:18.451906Z"
    },
    "papermill": {
     "duration": 0.014378,
     "end_time": "2024-06-20T17:39:18.455201",
     "exception": false,
     "start_time": "2024-06-20T17:39:18.440823",
     "status": "completed"
    },
    "tags": []
   },
   "outputs": [
    {
     "data": {
      "text/plain": [
       "127"
      ]
     },
     "execution_count": 5,
     "metadata": {},
     "output_type": "execute_result"
    }
   ],
   "source": [
    "len(os.listdir(\"/kaggle/input/realistic-action-recognition-ucf50/UCF50/HorseRace\"))"
   ]
  },
  {
   "cell_type": "code",
   "execution_count": 6,
   "id": "a6380681",
   "metadata": {
    "execution": {
     "iopub.execute_input": "2024-06-20T17:39:18.466661Z",
     "iopub.status.busy": "2024-06-20T17:39:18.466274Z",
     "iopub.status.idle": "2024-06-20T17:39:18.474887Z",
     "shell.execute_reply": "2024-06-20T17:39:18.473548Z"
    },
    "papermill": {
     "duration": 0.016955,
     "end_time": "2024-06-20T17:39:18.477303",
     "exception": false,
     "start_time": "2024-06-20T17:39:18.460348",
     "status": "completed"
    },
    "tags": []
   },
   "outputs": [
    {
     "data": {
      "text/plain": [
       "array([0, 0, 0, ..., 1, 1, 1])"
      ]
     },
     "execution_count": 6,
     "metadata": {},
     "output_type": "execute_result"
    }
   ],
   "source": [
    "y[0:1500]"
   ]
  },
  {
   "cell_type": "code",
   "execution_count": 7,
   "id": "92cc89e8",
   "metadata": {
    "execution": {
     "iopub.execute_input": "2024-06-20T17:39:18.489376Z",
     "iopub.status.busy": "2024-06-20T17:39:18.489007Z",
     "iopub.status.idle": "2024-06-20T17:39:18.495819Z",
     "shell.execute_reply": "2024-06-20T17:39:18.494841Z"
    },
    "papermill": {
     "duration": 0.01489,
     "end_time": "2024-06-20T17:39:18.497586",
     "exception": false,
     "start_time": "2024-06-20T17:39:18.482696",
     "status": "completed"
    },
    "tags": []
   },
   "outputs": [
    {
     "data": {
      "text/plain": [
       "(66810, 64, 64, 3)"
      ]
     },
     "execution_count": 7,
     "metadata": {},
     "output_type": "execute_result"
    }
   ],
   "source": [
    "X.shape"
   ]
  },
  {
   "cell_type": "code",
   "execution_count": 8,
   "id": "b495ff74",
   "metadata": {
    "execution": {
     "iopub.execute_input": "2024-06-20T17:39:18.509351Z",
     "iopub.status.busy": "2024-06-20T17:39:18.509010Z",
     "iopub.status.idle": "2024-06-20T17:39:19.769120Z",
     "shell.execute_reply": "2024-06-20T17:39:19.767936Z"
    },
    "papermill": {
     "duration": 1.268705,
     "end_time": "2024-06-20T17:39:19.771427",
     "exception": false,
     "start_time": "2024-06-20T17:39:18.502722",
     "status": "completed"
    },
    "tags": []
   },
   "outputs": [
    {
     "name": "stdout",
     "output_type": "stream",
     "text": [
      "66810 66810\n"
     ]
    }
   ],
   "source": [
    "\n",
    "# Compute num_classes\n",
    "num_classes = len(np.unique(y))\n",
    "print(len(X), len(y))\n",
    "\n",
    "\n",
    "# Split dataset into train and test sets\n",
    "X_train, X_test, y_train, y_test = train_test_split(X, y, test_size=0.2, random_state=42)\n",
    "'''\n",
    "random seed\n",
    "as the dataset is sorted based on the class [class 0 frames, class 1 frames, class 2 frames,...]\n",
    "so I use random state parameter to randomize the process of spliting \n",
    "\n",
    "'''\n",
    "\n",
    "# Normalize pixel values to range [0, 1]\n",
    "# We only normalize the X\n",
    "X_train = X_train / 255.0\n",
    "X_test = X_test / 255.0\n"
   ]
  },
  {
   "cell_type": "code",
   "execution_count": 9,
   "id": "b63cb0f6",
   "metadata": {
    "execution": {
     "iopub.execute_input": "2024-06-20T17:39:19.783604Z",
     "iopub.status.busy": "2024-06-20T17:39:19.783243Z",
     "iopub.status.idle": "2024-06-20T17:39:19.879720Z",
     "shell.execute_reply": "2024-06-20T17:39:19.877998Z"
    },
    "papermill": {
     "duration": 0.105324,
     "end_time": "2024-06-20T17:39:19.882230",
     "exception": false,
     "start_time": "2024-06-20T17:39:19.776906",
     "status": "completed"
    },
    "tags": []
   },
   "outputs": [
    {
     "name": "stderr",
     "output_type": "stream",
     "text": [
      "/opt/conda/lib/python3.10/site-packages/keras/src/layers/convolutional/base_conv.py:107: UserWarning: Do not pass an `input_shape`/`input_dim` argument to a layer. When using Sequential models, prefer using an `Input(shape)` object as the first layer in the model instead.\n",
      "  super().__init__(activity_regularizer=activity_regularizer, **kwargs)\n"
     ]
    }
   ],
   "source": [
    "# Define CNN model\n",
    "model = Sequential([\n",
    "    \n",
    "    # FEATURE EXTRACTOOOOORRRRRRR\n",
    "    # convolution applies a filter\n",
    "    Conv2D(32, (3, 3), activation='relu', input_shape=(64, 64, 3)),\n",
    "    # reduces unnecassary details \n",
    "    MaxPooling2D((2, 2)),\n",
    "    Conv2D(64, (3, 3), activation='relu'),\n",
    "    MaxPooling2D((2, 2)),\n",
    "    \n",
    "    \n",
    "    Flatten(),\n",
    "    # with some features\n",
    "    \n",
    "    Dense(128, activation='relu'),\n",
    "    Dense(num_classes, activation='softmax')\n",
    "])\n"
   ]
  },
  {
   "cell_type": "code",
   "execution_count": 10,
   "id": "10557daf",
   "metadata": {
    "execution": {
     "iopub.execute_input": "2024-06-20T17:39:19.894047Z",
     "iopub.status.busy": "2024-06-20T17:39:19.893725Z",
     "iopub.status.idle": "2024-06-20T17:39:19.907540Z",
     "shell.execute_reply": "2024-06-20T17:39:19.906451Z"
    },
    "papermill": {
     "duration": 0.022372,
     "end_time": "2024-06-20T17:39:19.909942",
     "exception": false,
     "start_time": "2024-06-20T17:39:19.887570",
     "status": "completed"
    },
    "tags": []
   },
   "outputs": [],
   "source": [
    "\n",
    "# Compile model\n",
    "model.compile(optimizer='adam', loss='sparse_categorical_crossentropy', metrics=['accuracy'])"
   ]
  },
  {
   "cell_type": "code",
   "execution_count": 11,
   "id": "4b66b4bb",
   "metadata": {
    "execution": {
     "iopub.execute_input": "2024-06-20T17:39:19.922700Z",
     "iopub.status.busy": "2024-06-20T17:39:19.922348Z",
     "iopub.status.idle": "2024-06-20T17:56:12.213637Z",
     "shell.execute_reply": "2024-06-20T17:56:12.211561Z"
    },
    "papermill": {
     "duration": 1013.050797,
     "end_time": "2024-06-20T17:56:12.965889",
     "exception": false,
     "start_time": "2024-06-20T17:39:19.915092",
     "status": "completed"
    },
    "tags": []
   },
   "outputs": [
    {
     "name": "stdout",
     "output_type": "stream",
     "text": [
      "Epoch 1/10\n",
      "\u001b[1m1337/1337\u001b[0m \u001b[32m━━━━━━━━━━━━━━━━━━━━\u001b[0m\u001b[37m\u001b[0m \u001b[1m95s\u001b[0m 70ms/step - accuracy: 0.4590 - loss: 2.1062 - val_accuracy: 0.8997 - val_loss: 0.3528\n",
      "Epoch 2/10\n",
      "\u001b[1m1337/1337\u001b[0m \u001b[32m━━━━━━━━━━━━━━━━━━━━\u001b[0m\u001b[37m\u001b[0m \u001b[1m92s\u001b[0m 69ms/step - accuracy: 0.9360 - loss: 0.2245 - val_accuracy: 0.9580 - val_loss: 0.1587\n",
      "Epoch 3/10\n",
      "\u001b[1m1337/1337\u001b[0m \u001b[32m━━━━━━━━━━━━━━━━━━━━\u001b[0m\u001b[37m\u001b[0m \u001b[1m149s\u001b[0m 75ms/step - accuracy: 0.9773 - loss: 0.0843 - val_accuracy: 0.9680 - val_loss: 0.1199\n",
      "Epoch 4/10\n",
      "\u001b[1m1337/1337\u001b[0m \u001b[32m━━━━━━━━━━━━━━━━━━━━\u001b[0m\u001b[37m\u001b[0m \u001b[1m100s\u001b[0m 75ms/step - accuracy: 0.9821 - loss: 0.0596 - val_accuracy: 0.9691 - val_loss: 0.1203\n",
      "Epoch 5/10\n",
      "\u001b[1m1337/1337\u001b[0m \u001b[32m━━━━━━━━━━━━━━━━━━━━\u001b[0m\u001b[37m\u001b[0m \u001b[1m98s\u001b[0m 73ms/step - accuracy: 0.9855 - loss: 0.0509 - val_accuracy: 0.9745 - val_loss: 0.0986\n",
      "Epoch 6/10\n",
      "\u001b[1m1337/1337\u001b[0m \u001b[32m━━━━━━━━━━━━━━━━━━━━\u001b[0m\u001b[37m\u001b[0m \u001b[1m96s\u001b[0m 72ms/step - accuracy: 0.9911 - loss: 0.0316 - val_accuracy: 0.9573 - val_loss: 0.1686\n",
      "Epoch 7/10\n",
      "\u001b[1m1337/1337\u001b[0m \u001b[32m━━━━━━━━━━━━━━━━━━━━\u001b[0m\u001b[37m\u001b[0m \u001b[1m95s\u001b[0m 71ms/step - accuracy: 0.9895 - loss: 0.0347 - val_accuracy: 0.9511 - val_loss: 0.2003\n",
      "Epoch 8/10\n",
      "\u001b[1m1337/1337\u001b[0m \u001b[32m━━━━━━━━━━━━━━━━━━━━\u001b[0m\u001b[37m\u001b[0m \u001b[1m95s\u001b[0m 71ms/step - accuracy: 0.9911 - loss: 0.0306 - val_accuracy: 0.9752 - val_loss: 0.1053\n",
      "Epoch 9/10\n",
      "\u001b[1m1337/1337\u001b[0m \u001b[32m━━━━━━━━━━━━━━━━━━━━\u001b[0m\u001b[37m\u001b[0m \u001b[1m95s\u001b[0m 71ms/step - accuracy: 0.9918 - loss: 0.0273 - val_accuracy: 0.9712 - val_loss: 0.1474\n",
      "Epoch 10/10\n",
      "\u001b[1m1337/1337\u001b[0m \u001b[32m━━━━━━━━━━━━━━━━━━━━\u001b[0m\u001b[37m\u001b[0m \u001b[1m95s\u001b[0m 71ms/step - accuracy: 0.9933 - loss: 0.0242 - val_accuracy: 0.9737 - val_loss: 0.1215\n"
     ]
    },
    {
     "data": {
      "text/plain": [
       "<keras.src.callbacks.history.History at 0x7ce04cfbb940>"
      ]
     },
     "execution_count": 11,
     "metadata": {},
     "output_type": "execute_result"
    }
   ],
   "source": [
    "\n",
    "# Train model - HYPERPARAMETERS\n",
    "model.fit(X_train, y_train, epochs=10, batch_size=32, validation_split=0.2)"
   ]
  },
  {
   "cell_type": "code",
   "execution_count": 12,
   "id": "b16049f2",
   "metadata": {
    "execution": {
     "iopub.execute_input": "2024-06-20T17:56:14.665001Z",
     "iopub.status.busy": "2024-06-20T17:56:14.664631Z",
     "iopub.status.idle": "2024-06-20T17:56:25.992191Z",
     "shell.execute_reply": "2024-06-20T17:56:25.990544Z"
    },
    "papermill": {
     "duration": 12.159146,
     "end_time": "2024-06-20T17:56:25.994765",
     "exception": false,
     "start_time": "2024-06-20T17:56:13.835619",
     "status": "completed"
    },
    "tags": []
   },
   "outputs": [
    {
     "name": "stdout",
     "output_type": "stream",
     "text": [
      "\u001b[1m418/418\u001b[0m \u001b[32m━━━━━━━━━━━━━━━━━━━━\u001b[0m\u001b[37m\u001b[0m \u001b[1m9s\u001b[0m 21ms/step - accuracy: 0.9728 - loss: 0.1169\n",
      "Test Accuracy: 0.9724591970443726\n"
     ]
    }
   ],
   "source": [
    "# Evaluate model on test set\n",
    "test_loss, test_accuracy = model.evaluate(X_test, y_test)\n",
    "print(\"Test Accuracy:\", test_accuracy)"
   ]
  },
  {
   "cell_type": "code",
   "execution_count": 13,
   "id": "2c22baa7",
   "metadata": {
    "execution": {
     "iopub.execute_input": "2024-06-20T17:56:27.940619Z",
     "iopub.status.busy": "2024-06-20T17:56:27.940178Z",
     "iopub.status.idle": "2024-06-20T17:56:29.183152Z",
     "shell.execute_reply": "2024-06-20T17:56:29.181114Z"
    },
    "papermill": {
     "duration": 2.14656,
     "end_time": "2024-06-20T17:56:29.187934",
     "exception": false,
     "start_time": "2024-06-20T17:56:27.041374",
     "status": "completed"
    },
    "tags": []
   },
   "outputs": [
    {
     "data": {
      "text/html": [
       "<pre style=\"white-space:pre;overflow-x:auto;line-height:normal;font-family:Menlo,'DejaVu Sans Mono',consolas,'Courier New',monospace\"><span style=\"font-weight: bold\">Model: \"sequential_1\"</span>\n",
       "</pre>\n"
      ],
      "text/plain": [
       "\u001b[1mModel: \"sequential_1\"\u001b[0m\n"
      ]
     },
     "metadata": {},
     "output_type": "display_data"
    },
    {
     "data": {
      "text/html": [
       "<pre style=\"white-space:pre;overflow-x:auto;line-height:normal;font-family:Menlo,'DejaVu Sans Mono',consolas,'Courier New',monospace\">┏━━━━━━━━━━━━━━━━━━━━━━━━━━━━━━━━━┳━━━━━━━━━━━━━━━━━━━━━━━━┳━━━━━━━━━━━━━━━┓\n",
       "┃<span style=\"font-weight: bold\"> Layer (type)                    </span>┃<span style=\"font-weight: bold\"> Output Shape           </span>┃<span style=\"font-weight: bold\">       Param # </span>┃\n",
       "┡━━━━━━━━━━━━━━━━━━━━━━━━━━━━━━━━━╇━━━━━━━━━━━━━━━━━━━━━━━━╇━━━━━━━━━━━━━━━┩\n",
       "│ conv2d_2 (<span style=\"color: #0087ff; text-decoration-color: #0087ff\">Conv2D</span>)               │ (<span style=\"color: #00d7ff; text-decoration-color: #00d7ff\">None</span>, <span style=\"color: #00af00; text-decoration-color: #00af00\">64</span>, <span style=\"color: #00af00; text-decoration-color: #00af00\">64</span>, <span style=\"color: #00af00; text-decoration-color: #00af00\">32</span>)     │           <span style=\"color: #00af00; text-decoration-color: #00af00\">896</span> │\n",
       "├─────────────────────────────────┼────────────────────────┼───────────────┤\n",
       "│ conv2d_3 (<span style=\"color: #0087ff; text-decoration-color: #0087ff\">Conv2D</span>)               │ (<span style=\"color: #00d7ff; text-decoration-color: #00d7ff\">None</span>, <span style=\"color: #00af00; text-decoration-color: #00af00\">62</span>, <span style=\"color: #00af00; text-decoration-color: #00af00\">62</span>, <span style=\"color: #00af00; text-decoration-color: #00af00\">32</span>)     │         <span style=\"color: #00af00; text-decoration-color: #00af00\">9,248</span> │\n",
       "├─────────────────────────────────┼────────────────────────┼───────────────┤\n",
       "│ conv2d_4 (<span style=\"color: #0087ff; text-decoration-color: #0087ff\">Conv2D</span>)               │ (<span style=\"color: #00d7ff; text-decoration-color: #00d7ff\">None</span>, <span style=\"color: #00af00; text-decoration-color: #00af00\">62</span>, <span style=\"color: #00af00; text-decoration-color: #00af00\">62</span>, <span style=\"color: #00af00; text-decoration-color: #00af00\">64</span>)     │        <span style=\"color: #00af00; text-decoration-color: #00af00\">18,496</span> │\n",
       "├─────────────────────────────────┼────────────────────────┼───────────────┤\n",
       "│ conv2d_5 (<span style=\"color: #0087ff; text-decoration-color: #0087ff\">Conv2D</span>)               │ (<span style=\"color: #00d7ff; text-decoration-color: #00d7ff\">None</span>, <span style=\"color: #00af00; text-decoration-color: #00af00\">60</span>, <span style=\"color: #00af00; text-decoration-color: #00af00\">60</span>, <span style=\"color: #00af00; text-decoration-color: #00af00\">64</span>)     │        <span style=\"color: #00af00; text-decoration-color: #00af00\">36,928</span> │\n",
       "├─────────────────────────────────┼────────────────────────┼───────────────┤\n",
       "│ flatten_1 (<span style=\"color: #0087ff; text-decoration-color: #0087ff\">Flatten</span>)             │ (<span style=\"color: #00d7ff; text-decoration-color: #00d7ff\">None</span>, <span style=\"color: #00af00; text-decoration-color: #00af00\">230400</span>)         │             <span style=\"color: #00af00; text-decoration-color: #00af00\">0</span> │\n",
       "├─────────────────────────────────┼────────────────────────┼───────────────┤\n",
       "│ dense_2 (<span style=\"color: #0087ff; text-decoration-color: #0087ff\">Dense</span>)                 │ (<span style=\"color: #00d7ff; text-decoration-color: #00d7ff\">None</span>, <span style=\"color: #00af00; text-decoration-color: #00af00\">512</span>)            │   <span style=\"color: #00af00; text-decoration-color: #00af00\">117,965,312</span> │\n",
       "├─────────────────────────────────┼────────────────────────┼───────────────┤\n",
       "│ dense_3 (<span style=\"color: #0087ff; text-decoration-color: #0087ff\">Dense</span>)                 │ (<span style=\"color: #00d7ff; text-decoration-color: #00d7ff\">None</span>, <span style=\"color: #00af00; text-decoration-color: #00af00\">50</span>)             │        <span style=\"color: #00af00; text-decoration-color: #00af00\">25,650</span> │\n",
       "└─────────────────────────────────┴────────────────────────┴───────────────┘\n",
       "</pre>\n"
      ],
      "text/plain": [
       "┏━━━━━━━━━━━━━━━━━━━━━━━━━━━━━━━━━┳━━━━━━━━━━━━━━━━━━━━━━━━┳━━━━━━━━━━━━━━━┓\n",
       "┃\u001b[1m \u001b[0m\u001b[1mLayer (type)                   \u001b[0m\u001b[1m \u001b[0m┃\u001b[1m \u001b[0m\u001b[1mOutput Shape          \u001b[0m\u001b[1m \u001b[0m┃\u001b[1m \u001b[0m\u001b[1m      Param #\u001b[0m\u001b[1m \u001b[0m┃\n",
       "┡━━━━━━━━━━━━━━━━━━━━━━━━━━━━━━━━━╇━━━━━━━━━━━━━━━━━━━━━━━━╇━━━━━━━━━━━━━━━┩\n",
       "│ conv2d_2 (\u001b[38;5;33mConv2D\u001b[0m)               │ (\u001b[38;5;45mNone\u001b[0m, \u001b[38;5;34m64\u001b[0m, \u001b[38;5;34m64\u001b[0m, \u001b[38;5;34m32\u001b[0m)     │           \u001b[38;5;34m896\u001b[0m │\n",
       "├─────────────────────────────────┼────────────────────────┼───────────────┤\n",
       "│ conv2d_3 (\u001b[38;5;33mConv2D\u001b[0m)               │ (\u001b[38;5;45mNone\u001b[0m, \u001b[38;5;34m62\u001b[0m, \u001b[38;5;34m62\u001b[0m, \u001b[38;5;34m32\u001b[0m)     │         \u001b[38;5;34m9,248\u001b[0m │\n",
       "├─────────────────────────────────┼────────────────────────┼───────────────┤\n",
       "│ conv2d_4 (\u001b[38;5;33mConv2D\u001b[0m)               │ (\u001b[38;5;45mNone\u001b[0m, \u001b[38;5;34m62\u001b[0m, \u001b[38;5;34m62\u001b[0m, \u001b[38;5;34m64\u001b[0m)     │        \u001b[38;5;34m18,496\u001b[0m │\n",
       "├─────────────────────────────────┼────────────────────────┼───────────────┤\n",
       "│ conv2d_5 (\u001b[38;5;33mConv2D\u001b[0m)               │ (\u001b[38;5;45mNone\u001b[0m, \u001b[38;5;34m60\u001b[0m, \u001b[38;5;34m60\u001b[0m, \u001b[38;5;34m64\u001b[0m)     │        \u001b[38;5;34m36,928\u001b[0m │\n",
       "├─────────────────────────────────┼────────────────────────┼───────────────┤\n",
       "│ flatten_1 (\u001b[38;5;33mFlatten\u001b[0m)             │ (\u001b[38;5;45mNone\u001b[0m, \u001b[38;5;34m230400\u001b[0m)         │             \u001b[38;5;34m0\u001b[0m │\n",
       "├─────────────────────────────────┼────────────────────────┼───────────────┤\n",
       "│ dense_2 (\u001b[38;5;33mDense\u001b[0m)                 │ (\u001b[38;5;45mNone\u001b[0m, \u001b[38;5;34m512\u001b[0m)            │   \u001b[38;5;34m117,965,312\u001b[0m │\n",
       "├─────────────────────────────────┼────────────────────────┼───────────────┤\n",
       "│ dense_3 (\u001b[38;5;33mDense\u001b[0m)                 │ (\u001b[38;5;45mNone\u001b[0m, \u001b[38;5;34m50\u001b[0m)             │        \u001b[38;5;34m25,650\u001b[0m │\n",
       "└─────────────────────────────────┴────────────────────────┴───────────────┘\n"
      ]
     },
     "metadata": {},
     "output_type": "display_data"
    },
    {
     "data": {
      "text/html": [
       "<pre style=\"white-space:pre;overflow-x:auto;line-height:normal;font-family:Menlo,'DejaVu Sans Mono',consolas,'Courier New',monospace\"><span style=\"font-weight: bold\"> Total params: </span><span style=\"color: #00af00; text-decoration-color: #00af00\">118,056,530</span> (450.35 MB)\n",
       "</pre>\n"
      ],
      "text/plain": [
       "\u001b[1m Total params: \u001b[0m\u001b[38;5;34m118,056,530\u001b[0m (450.35 MB)\n"
      ]
     },
     "metadata": {},
     "output_type": "display_data"
    },
    {
     "data": {
      "text/html": [
       "<pre style=\"white-space:pre;overflow-x:auto;line-height:normal;font-family:Menlo,'DejaVu Sans Mono',consolas,'Courier New',monospace\"><span style=\"font-weight: bold\"> Trainable params: </span><span style=\"color: #00af00; text-decoration-color: #00af00\">118,056,530</span> (450.35 MB)\n",
       "</pre>\n"
      ],
      "text/plain": [
       "\u001b[1m Trainable params: \u001b[0m\u001b[38;5;34m118,056,530\u001b[0m (450.35 MB)\n"
      ]
     },
     "metadata": {},
     "output_type": "display_data"
    },
    {
     "data": {
      "text/html": [
       "<pre style=\"white-space:pre;overflow-x:auto;line-height:normal;font-family:Menlo,'DejaVu Sans Mono',consolas,'Courier New',monospace\"><span style=\"font-weight: bold\"> Non-trainable params: </span><span style=\"color: #00af00; text-decoration-color: #00af00\">0</span> (0.00 B)\n",
       "</pre>\n"
      ],
      "text/plain": [
       "\u001b[1m Non-trainable params: \u001b[0m\u001b[38;5;34m0\u001b[0m (0.00 B)\n"
      ]
     },
     "metadata": {},
     "output_type": "display_data"
    }
   ],
   "source": [
    "#create the model and add the layers [Convolution Layers]\n",
    "\n",
    "model_1 = Sequential()\n",
    "\n",
    "#When working with emages, use 2D, for some kind of data like sound-waves you can use 1D\n",
    "#32 felters, each one for detecting one pattern\n",
    "#(3,3) the small window size ,adding padding is optional\n",
    "\n",
    "model_1.add(Conv2D(32, (3,3), padding = 'same' ,activation= 'relu', input_shape =(64,64,3)))\n",
    "model_1.add(Conv2D(32, (3,3), activation = 'relu')) # we wont pad the images \n",
    "\n",
    "model_1.add(Conv2D(64, (3,3), activation = 'relu', padding = 'same'))\n",
    "model_1.add(Conv2D(64, (3,3), activation = 'relu'))\n",
    "\n",
    "#tell keras, you no longer working with 2D data\n",
    "model_1.add(Flatten())\n",
    "\n",
    "model_1.add(Dense(512, activation = 'relu'))\n",
    "model_1.add(Dense(50, activation = 'softmax'))\n",
    "\n",
    "#print a summary of the model\n",
    "model_1.summary()"
   ]
  },
  {
   "cell_type": "code",
   "execution_count": 14,
   "id": "dad49757",
   "metadata": {
    "execution": {
     "iopub.execute_input": "2024-06-20T17:56:31.899341Z",
     "iopub.status.busy": "2024-06-20T17:56:31.898923Z",
     "iopub.status.idle": "2024-06-20T17:56:32.049914Z",
     "shell.execute_reply": "2024-06-20T17:56:32.048811Z"
    },
    "papermill": {
     "duration": 1.046722,
     "end_time": "2024-06-20T17:56:32.052492",
     "exception": false,
     "start_time": "2024-06-20T17:56:31.005770",
     "status": "completed"
    },
    "tags": []
   },
   "outputs": [
    {
     "data": {
      "text/html": [
       "<pre style=\"white-space:pre;overflow-x:auto;line-height:normal;font-family:Menlo,'DejaVu Sans Mono',consolas,'Courier New',monospace\"><span style=\"font-weight: bold\">Model: \"sequential\"</span>\n",
       "</pre>\n"
      ],
      "text/plain": [
       "\u001b[1mModel: \"sequential\"\u001b[0m\n"
      ]
     },
     "metadata": {},
     "output_type": "display_data"
    },
    {
     "data": {
      "text/html": [
       "<pre style=\"white-space:pre;overflow-x:auto;line-height:normal;font-family:Menlo,'DejaVu Sans Mono',consolas,'Courier New',monospace\">┏━━━━━━━━━━━━━━━━━━━━━━━━━━━━━━━━━┳━━━━━━━━━━━━━━━━━━━━━━━━┳━━━━━━━━━━━━━━━┓\n",
       "┃<span style=\"font-weight: bold\"> Layer (type)                    </span>┃<span style=\"font-weight: bold\"> Output Shape           </span>┃<span style=\"font-weight: bold\">       Param # </span>┃\n",
       "┡━━━━━━━━━━━━━━━━━━━━━━━━━━━━━━━━━╇━━━━━━━━━━━━━━━━━━━━━━━━╇━━━━━━━━━━━━━━━┩\n",
       "│ conv2d (<span style=\"color: #0087ff; text-decoration-color: #0087ff\">Conv2D</span>)                 │ (<span style=\"color: #00d7ff; text-decoration-color: #00d7ff\">None</span>, <span style=\"color: #00af00; text-decoration-color: #00af00\">62</span>, <span style=\"color: #00af00; text-decoration-color: #00af00\">62</span>, <span style=\"color: #00af00; text-decoration-color: #00af00\">32</span>)     │           <span style=\"color: #00af00; text-decoration-color: #00af00\">896</span> │\n",
       "├─────────────────────────────────┼────────────────────────┼───────────────┤\n",
       "│ max_pooling2d (<span style=\"color: #0087ff; text-decoration-color: #0087ff\">MaxPooling2D</span>)    │ (<span style=\"color: #00d7ff; text-decoration-color: #00d7ff\">None</span>, <span style=\"color: #00af00; text-decoration-color: #00af00\">31</span>, <span style=\"color: #00af00; text-decoration-color: #00af00\">31</span>, <span style=\"color: #00af00; text-decoration-color: #00af00\">32</span>)     │             <span style=\"color: #00af00; text-decoration-color: #00af00\">0</span> │\n",
       "├─────────────────────────────────┼────────────────────────┼───────────────┤\n",
       "│ conv2d_1 (<span style=\"color: #0087ff; text-decoration-color: #0087ff\">Conv2D</span>)               │ (<span style=\"color: #00d7ff; text-decoration-color: #00d7ff\">None</span>, <span style=\"color: #00af00; text-decoration-color: #00af00\">29</span>, <span style=\"color: #00af00; text-decoration-color: #00af00\">29</span>, <span style=\"color: #00af00; text-decoration-color: #00af00\">64</span>)     │        <span style=\"color: #00af00; text-decoration-color: #00af00\">18,496</span> │\n",
       "├─────────────────────────────────┼────────────────────────┼───────────────┤\n",
       "│ max_pooling2d_1 (<span style=\"color: #0087ff; text-decoration-color: #0087ff\">MaxPooling2D</span>)  │ (<span style=\"color: #00d7ff; text-decoration-color: #00d7ff\">None</span>, <span style=\"color: #00af00; text-decoration-color: #00af00\">14</span>, <span style=\"color: #00af00; text-decoration-color: #00af00\">14</span>, <span style=\"color: #00af00; text-decoration-color: #00af00\">64</span>)     │             <span style=\"color: #00af00; text-decoration-color: #00af00\">0</span> │\n",
       "├─────────────────────────────────┼────────────────────────┼───────────────┤\n",
       "│ flatten (<span style=\"color: #0087ff; text-decoration-color: #0087ff\">Flatten</span>)               │ (<span style=\"color: #00d7ff; text-decoration-color: #00d7ff\">None</span>, <span style=\"color: #00af00; text-decoration-color: #00af00\">12544</span>)          │             <span style=\"color: #00af00; text-decoration-color: #00af00\">0</span> │\n",
       "├─────────────────────────────────┼────────────────────────┼───────────────┤\n",
       "│ dense (<span style=\"color: #0087ff; text-decoration-color: #0087ff\">Dense</span>)                   │ (<span style=\"color: #00d7ff; text-decoration-color: #00d7ff\">None</span>, <span style=\"color: #00af00; text-decoration-color: #00af00\">128</span>)            │     <span style=\"color: #00af00; text-decoration-color: #00af00\">1,605,760</span> │\n",
       "├─────────────────────────────────┼────────────────────────┼───────────────┤\n",
       "│ dense_1 (<span style=\"color: #0087ff; text-decoration-color: #0087ff\">Dense</span>)                 │ (<span style=\"color: #00d7ff; text-decoration-color: #00d7ff\">None</span>, <span style=\"color: #00af00; text-decoration-color: #00af00\">50</span>)             │         <span style=\"color: #00af00; text-decoration-color: #00af00\">6,450</span> │\n",
       "└─────────────────────────────────┴────────────────────────┴───────────────┘\n",
       "</pre>\n"
      ],
      "text/plain": [
       "┏━━━━━━━━━━━━━━━━━━━━━━━━━━━━━━━━━┳━━━━━━━━━━━━━━━━━━━━━━━━┳━━━━━━━━━━━━━━━┓\n",
       "┃\u001b[1m \u001b[0m\u001b[1mLayer (type)                   \u001b[0m\u001b[1m \u001b[0m┃\u001b[1m \u001b[0m\u001b[1mOutput Shape          \u001b[0m\u001b[1m \u001b[0m┃\u001b[1m \u001b[0m\u001b[1m      Param #\u001b[0m\u001b[1m \u001b[0m┃\n",
       "┡━━━━━━━━━━━━━━━━━━━━━━━━━━━━━━━━━╇━━━━━━━━━━━━━━━━━━━━━━━━╇━━━━━━━━━━━━━━━┩\n",
       "│ conv2d (\u001b[38;5;33mConv2D\u001b[0m)                 │ (\u001b[38;5;45mNone\u001b[0m, \u001b[38;5;34m62\u001b[0m, \u001b[38;5;34m62\u001b[0m, \u001b[38;5;34m32\u001b[0m)     │           \u001b[38;5;34m896\u001b[0m │\n",
       "├─────────────────────────────────┼────────────────────────┼───────────────┤\n",
       "│ max_pooling2d (\u001b[38;5;33mMaxPooling2D\u001b[0m)    │ (\u001b[38;5;45mNone\u001b[0m, \u001b[38;5;34m31\u001b[0m, \u001b[38;5;34m31\u001b[0m, \u001b[38;5;34m32\u001b[0m)     │             \u001b[38;5;34m0\u001b[0m │\n",
       "├─────────────────────────────────┼────────────────────────┼───────────────┤\n",
       "│ conv2d_1 (\u001b[38;5;33mConv2D\u001b[0m)               │ (\u001b[38;5;45mNone\u001b[0m, \u001b[38;5;34m29\u001b[0m, \u001b[38;5;34m29\u001b[0m, \u001b[38;5;34m64\u001b[0m)     │        \u001b[38;5;34m18,496\u001b[0m │\n",
       "├─────────────────────────────────┼────────────────────────┼───────────────┤\n",
       "│ max_pooling2d_1 (\u001b[38;5;33mMaxPooling2D\u001b[0m)  │ (\u001b[38;5;45mNone\u001b[0m, \u001b[38;5;34m14\u001b[0m, \u001b[38;5;34m14\u001b[0m, \u001b[38;5;34m64\u001b[0m)     │             \u001b[38;5;34m0\u001b[0m │\n",
       "├─────────────────────────────────┼────────────────────────┼───────────────┤\n",
       "│ flatten (\u001b[38;5;33mFlatten\u001b[0m)               │ (\u001b[38;5;45mNone\u001b[0m, \u001b[38;5;34m12544\u001b[0m)          │             \u001b[38;5;34m0\u001b[0m │\n",
       "├─────────────────────────────────┼────────────────────────┼───────────────┤\n",
       "│ dense (\u001b[38;5;33mDense\u001b[0m)                   │ (\u001b[38;5;45mNone\u001b[0m, \u001b[38;5;34m128\u001b[0m)            │     \u001b[38;5;34m1,605,760\u001b[0m │\n",
       "├─────────────────────────────────┼────────────────────────┼───────────────┤\n",
       "│ dense_1 (\u001b[38;5;33mDense\u001b[0m)                 │ (\u001b[38;5;45mNone\u001b[0m, \u001b[38;5;34m50\u001b[0m)             │         \u001b[38;5;34m6,450\u001b[0m │\n",
       "└─────────────────────────────────┴────────────────────────┴───────────────┘\n"
      ]
     },
     "metadata": {},
     "output_type": "display_data"
    },
    {
     "data": {
      "text/html": [
       "<pre style=\"white-space:pre;overflow-x:auto;line-height:normal;font-family:Menlo,'DejaVu Sans Mono',consolas,'Courier New',monospace\"><span style=\"font-weight: bold\"> Total params: </span><span style=\"color: #00af00; text-decoration-color: #00af00\">4,894,808</span> (18.67 MB)\n",
       "</pre>\n"
      ],
      "text/plain": [
       "\u001b[1m Total params: \u001b[0m\u001b[38;5;34m4,894,808\u001b[0m (18.67 MB)\n"
      ]
     },
     "metadata": {},
     "output_type": "display_data"
    },
    {
     "data": {
      "text/html": [
       "<pre style=\"white-space:pre;overflow-x:auto;line-height:normal;font-family:Menlo,'DejaVu Sans Mono',consolas,'Courier New',monospace\"><span style=\"font-weight: bold\"> Trainable params: </span><span style=\"color: #00af00; text-decoration-color: #00af00\">1,631,602</span> (6.22 MB)\n",
       "</pre>\n"
      ],
      "text/plain": [
       "\u001b[1m Trainable params: \u001b[0m\u001b[38;5;34m1,631,602\u001b[0m (6.22 MB)\n"
      ]
     },
     "metadata": {},
     "output_type": "display_data"
    },
    {
     "data": {
      "text/html": [
       "<pre style=\"white-space:pre;overflow-x:auto;line-height:normal;font-family:Menlo,'DejaVu Sans Mono',consolas,'Courier New',monospace\"><span style=\"font-weight: bold\"> Non-trainable params: </span><span style=\"color: #00af00; text-decoration-color: #00af00\">0</span> (0.00 B)\n",
       "</pre>\n"
      ],
      "text/plain": [
       "\u001b[1m Non-trainable params: \u001b[0m\u001b[38;5;34m0\u001b[0m (0.00 B)\n"
      ]
     },
     "metadata": {},
     "output_type": "display_data"
    },
    {
     "data": {
      "text/html": [
       "<pre style=\"white-space:pre;overflow-x:auto;line-height:normal;font-family:Menlo,'DejaVu Sans Mono',consolas,'Courier New',monospace\"><span style=\"font-weight: bold\"> Optimizer params: </span><span style=\"color: #00af00; text-decoration-color: #00af00\">3,263,206</span> (12.45 MB)\n",
       "</pre>\n"
      ],
      "text/plain": [
       "\u001b[1m Optimizer params: \u001b[0m\u001b[38;5;34m3,263,206\u001b[0m (12.45 MB)\n"
      ]
     },
     "metadata": {},
     "output_type": "display_data"
    }
   ],
   "source": [
    "#create the model and add the layers [Max pooling]\n",
    "\n",
    "model_2 = Sequential()\n",
    "\n",
    "model_2.add(Conv2D(32, (3,3), padding = 'same' ,activation= 'relu', input_shape =(64,64,3)))\n",
    "model_2.add(Conv2D(32, (3,3), activation = 'relu')) # we wont pad the images \n",
    "model_2.add(MaxPooling2D(pool_size = (2,2)))\n",
    "\n",
    "model_2.add(Conv2D(64, (3,3), activation = 'relu', padding = 'same'))\n",
    "model_2.add(Conv2D(64, (3,3), activation = 'relu'))\n",
    "model_2.add(MaxPooling2D(pool_size = (2,2)))\n",
    "\n",
    "model_2.add(Flatten())\n",
    "\n",
    "model_2.add(Dense(512, activation = 'relu'))\n",
    "model_2.add(Dense(50, activation = 'softmax'))\n",
    "\n",
    "\n",
    "#print a summary of the model\n",
    "model.summary()"
   ]
  },
  {
   "cell_type": "code",
   "execution_count": 15,
   "id": "a453e4bc",
   "metadata": {
    "execution": {
     "iopub.execute_input": "2024-06-20T17:56:33.801904Z",
     "iopub.status.busy": "2024-06-20T17:56:33.801440Z",
     "iopub.status.idle": "2024-06-20T17:56:33.957925Z",
     "shell.execute_reply": "2024-06-20T17:56:33.956738Z"
    },
    "papermill": {
     "duration": 1.042051,
     "end_time": "2024-06-20T17:56:33.960182",
     "exception": false,
     "start_time": "2024-06-20T17:56:32.918131",
     "status": "completed"
    },
    "tags": []
   },
   "outputs": [
    {
     "data": {
      "text/html": [
       "<pre style=\"white-space:pre;overflow-x:auto;line-height:normal;font-family:Menlo,'DejaVu Sans Mono',consolas,'Courier New',monospace\"><span style=\"font-weight: bold\">Model: \"sequential_3\"</span>\n",
       "</pre>\n"
      ],
      "text/plain": [
       "\u001b[1mModel: \"sequential_3\"\u001b[0m\n"
      ]
     },
     "metadata": {},
     "output_type": "display_data"
    },
    {
     "data": {
      "text/html": [
       "<pre style=\"white-space:pre;overflow-x:auto;line-height:normal;font-family:Menlo,'DejaVu Sans Mono',consolas,'Courier New',monospace\">┏━━━━━━━━━━━━━━━━━━━━━━━━━━━━━━━━━┳━━━━━━━━━━━━━━━━━━━━━━━━┳━━━━━━━━━━━━━━━┓\n",
       "┃<span style=\"font-weight: bold\"> Layer (type)                    </span>┃<span style=\"font-weight: bold\"> Output Shape           </span>┃<span style=\"font-weight: bold\">       Param # </span>┃\n",
       "┡━━━━━━━━━━━━━━━━━━━━━━━━━━━━━━━━━╇━━━━━━━━━━━━━━━━━━━━━━━━╇━━━━━━━━━━━━━━━┩\n",
       "│ conv2d_10 (<span style=\"color: #0087ff; text-decoration-color: #0087ff\">Conv2D</span>)              │ (<span style=\"color: #00d7ff; text-decoration-color: #00d7ff\">None</span>, <span style=\"color: #00af00; text-decoration-color: #00af00\">64</span>, <span style=\"color: #00af00; text-decoration-color: #00af00\">64</span>, <span style=\"color: #00af00; text-decoration-color: #00af00\">32</span>)     │           <span style=\"color: #00af00; text-decoration-color: #00af00\">896</span> │\n",
       "├─────────────────────────────────┼────────────────────────┼───────────────┤\n",
       "│ conv2d_11 (<span style=\"color: #0087ff; text-decoration-color: #0087ff\">Conv2D</span>)              │ (<span style=\"color: #00d7ff; text-decoration-color: #00d7ff\">None</span>, <span style=\"color: #00af00; text-decoration-color: #00af00\">62</span>, <span style=\"color: #00af00; text-decoration-color: #00af00\">62</span>, <span style=\"color: #00af00; text-decoration-color: #00af00\">32</span>)     │         <span style=\"color: #00af00; text-decoration-color: #00af00\">9,248</span> │\n",
       "├─────────────────────────────────┼────────────────────────┼───────────────┤\n",
       "│ max_pooling2d_4 (<span style=\"color: #0087ff; text-decoration-color: #0087ff\">MaxPooling2D</span>)  │ (<span style=\"color: #00d7ff; text-decoration-color: #00d7ff\">None</span>, <span style=\"color: #00af00; text-decoration-color: #00af00\">31</span>, <span style=\"color: #00af00; text-decoration-color: #00af00\">31</span>, <span style=\"color: #00af00; text-decoration-color: #00af00\">32</span>)     │             <span style=\"color: #00af00; text-decoration-color: #00af00\">0</span> │\n",
       "├─────────────────────────────────┼────────────────────────┼───────────────┤\n",
       "│ dropout (<span style=\"color: #0087ff; text-decoration-color: #0087ff\">Dropout</span>)               │ (<span style=\"color: #00d7ff; text-decoration-color: #00d7ff\">None</span>, <span style=\"color: #00af00; text-decoration-color: #00af00\">31</span>, <span style=\"color: #00af00; text-decoration-color: #00af00\">31</span>, <span style=\"color: #00af00; text-decoration-color: #00af00\">32</span>)     │             <span style=\"color: #00af00; text-decoration-color: #00af00\">0</span> │\n",
       "├─────────────────────────────────┼────────────────────────┼───────────────┤\n",
       "│ conv2d_12 (<span style=\"color: #0087ff; text-decoration-color: #0087ff\">Conv2D</span>)              │ (<span style=\"color: #00d7ff; text-decoration-color: #00d7ff\">None</span>, <span style=\"color: #00af00; text-decoration-color: #00af00\">31</span>, <span style=\"color: #00af00; text-decoration-color: #00af00\">31</span>, <span style=\"color: #00af00; text-decoration-color: #00af00\">64</span>)     │        <span style=\"color: #00af00; text-decoration-color: #00af00\">18,496</span> │\n",
       "├─────────────────────────────────┼────────────────────────┼───────────────┤\n",
       "│ conv2d_13 (<span style=\"color: #0087ff; text-decoration-color: #0087ff\">Conv2D</span>)              │ (<span style=\"color: #00d7ff; text-decoration-color: #00d7ff\">None</span>, <span style=\"color: #00af00; text-decoration-color: #00af00\">29</span>, <span style=\"color: #00af00; text-decoration-color: #00af00\">29</span>, <span style=\"color: #00af00; text-decoration-color: #00af00\">64</span>)     │        <span style=\"color: #00af00; text-decoration-color: #00af00\">36,928</span> │\n",
       "├─────────────────────────────────┼────────────────────────┼───────────────┤\n",
       "│ max_pooling2d_5 (<span style=\"color: #0087ff; text-decoration-color: #0087ff\">MaxPooling2D</span>)  │ (<span style=\"color: #00d7ff; text-decoration-color: #00d7ff\">None</span>, <span style=\"color: #00af00; text-decoration-color: #00af00\">14</span>, <span style=\"color: #00af00; text-decoration-color: #00af00\">14</span>, <span style=\"color: #00af00; text-decoration-color: #00af00\">64</span>)     │             <span style=\"color: #00af00; text-decoration-color: #00af00\">0</span> │\n",
       "├─────────────────────────────────┼────────────────────────┼───────────────┤\n",
       "│ dropout_1 (<span style=\"color: #0087ff; text-decoration-color: #0087ff\">Dropout</span>)             │ (<span style=\"color: #00d7ff; text-decoration-color: #00d7ff\">None</span>, <span style=\"color: #00af00; text-decoration-color: #00af00\">14</span>, <span style=\"color: #00af00; text-decoration-color: #00af00\">14</span>, <span style=\"color: #00af00; text-decoration-color: #00af00\">64</span>)     │             <span style=\"color: #00af00; text-decoration-color: #00af00\">0</span> │\n",
       "├─────────────────────────────────┼────────────────────────┼───────────────┤\n",
       "│ flatten_3 (<span style=\"color: #0087ff; text-decoration-color: #0087ff\">Flatten</span>)             │ (<span style=\"color: #00d7ff; text-decoration-color: #00d7ff\">None</span>, <span style=\"color: #00af00; text-decoration-color: #00af00\">12544</span>)          │             <span style=\"color: #00af00; text-decoration-color: #00af00\">0</span> │\n",
       "├─────────────────────────────────┼────────────────────────┼───────────────┤\n",
       "│ dense_6 (<span style=\"color: #0087ff; text-decoration-color: #0087ff\">Dense</span>)                 │ (<span style=\"color: #00d7ff; text-decoration-color: #00d7ff\">None</span>, <span style=\"color: #00af00; text-decoration-color: #00af00\">512</span>)            │     <span style=\"color: #00af00; text-decoration-color: #00af00\">6,423,040</span> │\n",
       "├─────────────────────────────────┼────────────────────────┼───────────────┤\n",
       "│ dropout_2 (<span style=\"color: #0087ff; text-decoration-color: #0087ff\">Dropout</span>)             │ (<span style=\"color: #00d7ff; text-decoration-color: #00d7ff\">None</span>, <span style=\"color: #00af00; text-decoration-color: #00af00\">512</span>)            │             <span style=\"color: #00af00; text-decoration-color: #00af00\">0</span> │\n",
       "├─────────────────────────────────┼────────────────────────┼───────────────┤\n",
       "│ dense_7 (<span style=\"color: #0087ff; text-decoration-color: #0087ff\">Dense</span>)                 │ (<span style=\"color: #00d7ff; text-decoration-color: #00d7ff\">None</span>, <span style=\"color: #00af00; text-decoration-color: #00af00\">50</span>)             │        <span style=\"color: #00af00; text-decoration-color: #00af00\">25,650</span> │\n",
       "└─────────────────────────────────┴────────────────────────┴───────────────┘\n",
       "</pre>\n"
      ],
      "text/plain": [
       "┏━━━━━━━━━━━━━━━━━━━━━━━━━━━━━━━━━┳━━━━━━━━━━━━━━━━━━━━━━━━┳━━━━━━━━━━━━━━━┓\n",
       "┃\u001b[1m \u001b[0m\u001b[1mLayer (type)                   \u001b[0m\u001b[1m \u001b[0m┃\u001b[1m \u001b[0m\u001b[1mOutput Shape          \u001b[0m\u001b[1m \u001b[0m┃\u001b[1m \u001b[0m\u001b[1m      Param #\u001b[0m\u001b[1m \u001b[0m┃\n",
       "┡━━━━━━━━━━━━━━━━━━━━━━━━━━━━━━━━━╇━━━━━━━━━━━━━━━━━━━━━━━━╇━━━━━━━━━━━━━━━┩\n",
       "│ conv2d_10 (\u001b[38;5;33mConv2D\u001b[0m)              │ (\u001b[38;5;45mNone\u001b[0m, \u001b[38;5;34m64\u001b[0m, \u001b[38;5;34m64\u001b[0m, \u001b[38;5;34m32\u001b[0m)     │           \u001b[38;5;34m896\u001b[0m │\n",
       "├─────────────────────────────────┼────────────────────────┼───────────────┤\n",
       "│ conv2d_11 (\u001b[38;5;33mConv2D\u001b[0m)              │ (\u001b[38;5;45mNone\u001b[0m, \u001b[38;5;34m62\u001b[0m, \u001b[38;5;34m62\u001b[0m, \u001b[38;5;34m32\u001b[0m)     │         \u001b[38;5;34m9,248\u001b[0m │\n",
       "├─────────────────────────────────┼────────────────────────┼───────────────┤\n",
       "│ max_pooling2d_4 (\u001b[38;5;33mMaxPooling2D\u001b[0m)  │ (\u001b[38;5;45mNone\u001b[0m, \u001b[38;5;34m31\u001b[0m, \u001b[38;5;34m31\u001b[0m, \u001b[38;5;34m32\u001b[0m)     │             \u001b[38;5;34m0\u001b[0m │\n",
       "├─────────────────────────────────┼────────────────────────┼───────────────┤\n",
       "│ dropout (\u001b[38;5;33mDropout\u001b[0m)               │ (\u001b[38;5;45mNone\u001b[0m, \u001b[38;5;34m31\u001b[0m, \u001b[38;5;34m31\u001b[0m, \u001b[38;5;34m32\u001b[0m)     │             \u001b[38;5;34m0\u001b[0m │\n",
       "├─────────────────────────────────┼────────────────────────┼───────────────┤\n",
       "│ conv2d_12 (\u001b[38;5;33mConv2D\u001b[0m)              │ (\u001b[38;5;45mNone\u001b[0m, \u001b[38;5;34m31\u001b[0m, \u001b[38;5;34m31\u001b[0m, \u001b[38;5;34m64\u001b[0m)     │        \u001b[38;5;34m18,496\u001b[0m │\n",
       "├─────────────────────────────────┼────────────────────────┼───────────────┤\n",
       "│ conv2d_13 (\u001b[38;5;33mConv2D\u001b[0m)              │ (\u001b[38;5;45mNone\u001b[0m, \u001b[38;5;34m29\u001b[0m, \u001b[38;5;34m29\u001b[0m, \u001b[38;5;34m64\u001b[0m)     │        \u001b[38;5;34m36,928\u001b[0m │\n",
       "├─────────────────────────────────┼────────────────────────┼───────────────┤\n",
       "│ max_pooling2d_5 (\u001b[38;5;33mMaxPooling2D\u001b[0m)  │ (\u001b[38;5;45mNone\u001b[0m, \u001b[38;5;34m14\u001b[0m, \u001b[38;5;34m14\u001b[0m, \u001b[38;5;34m64\u001b[0m)     │             \u001b[38;5;34m0\u001b[0m │\n",
       "├─────────────────────────────────┼────────────────────────┼───────────────┤\n",
       "│ dropout_1 (\u001b[38;5;33mDropout\u001b[0m)             │ (\u001b[38;5;45mNone\u001b[0m, \u001b[38;5;34m14\u001b[0m, \u001b[38;5;34m14\u001b[0m, \u001b[38;5;34m64\u001b[0m)     │             \u001b[38;5;34m0\u001b[0m │\n",
       "├─────────────────────────────────┼────────────────────────┼───────────────┤\n",
       "│ flatten_3 (\u001b[38;5;33mFlatten\u001b[0m)             │ (\u001b[38;5;45mNone\u001b[0m, \u001b[38;5;34m12544\u001b[0m)          │             \u001b[38;5;34m0\u001b[0m │\n",
       "├─────────────────────────────────┼────────────────────────┼───────────────┤\n",
       "│ dense_6 (\u001b[38;5;33mDense\u001b[0m)                 │ (\u001b[38;5;45mNone\u001b[0m, \u001b[38;5;34m512\u001b[0m)            │     \u001b[38;5;34m6,423,040\u001b[0m │\n",
       "├─────────────────────────────────┼────────────────────────┼───────────────┤\n",
       "│ dropout_2 (\u001b[38;5;33mDropout\u001b[0m)             │ (\u001b[38;5;45mNone\u001b[0m, \u001b[38;5;34m512\u001b[0m)            │             \u001b[38;5;34m0\u001b[0m │\n",
       "├─────────────────────────────────┼────────────────────────┼───────────────┤\n",
       "│ dense_7 (\u001b[38;5;33mDense\u001b[0m)                 │ (\u001b[38;5;45mNone\u001b[0m, \u001b[38;5;34m50\u001b[0m)             │        \u001b[38;5;34m25,650\u001b[0m │\n",
       "└─────────────────────────────────┴────────────────────────┴───────────────┘\n"
      ]
     },
     "metadata": {},
     "output_type": "display_data"
    },
    {
     "data": {
      "text/html": [
       "<pre style=\"white-space:pre;overflow-x:auto;line-height:normal;font-family:Menlo,'DejaVu Sans Mono',consolas,'Courier New',monospace\"><span style=\"font-weight: bold\"> Total params: </span><span style=\"color: #00af00; text-decoration-color: #00af00\">6,514,258</span> (24.85 MB)\n",
       "</pre>\n"
      ],
      "text/plain": [
       "\u001b[1m Total params: \u001b[0m\u001b[38;5;34m6,514,258\u001b[0m (24.85 MB)\n"
      ]
     },
     "metadata": {},
     "output_type": "display_data"
    },
    {
     "data": {
      "text/html": [
       "<pre style=\"white-space:pre;overflow-x:auto;line-height:normal;font-family:Menlo,'DejaVu Sans Mono',consolas,'Courier New',monospace\"><span style=\"font-weight: bold\"> Trainable params: </span><span style=\"color: #00af00; text-decoration-color: #00af00\">6,514,258</span> (24.85 MB)\n",
       "</pre>\n"
      ],
      "text/plain": [
       "\u001b[1m Trainable params: \u001b[0m\u001b[38;5;34m6,514,258\u001b[0m (24.85 MB)\n"
      ]
     },
     "metadata": {},
     "output_type": "display_data"
    },
    {
     "data": {
      "text/html": [
       "<pre style=\"white-space:pre;overflow-x:auto;line-height:normal;font-family:Menlo,'DejaVu Sans Mono',consolas,'Courier New',monospace\"><span style=\"font-weight: bold\"> Non-trainable params: </span><span style=\"color: #00af00; text-decoration-color: #00af00\">0</span> (0.00 B)\n",
       "</pre>\n"
      ],
      "text/plain": [
       "\u001b[1m Non-trainable params: \u001b[0m\u001b[38;5;34m0\u001b[0m (0.00 B)\n"
      ]
     },
     "metadata": {},
     "output_type": "display_data"
    }
   ],
   "source": [
    "#create the model and add the layers [Dropout]\n",
    "\n",
    "model_3 = Sequential()\n",
    "\n",
    "model_3.add(Conv2D(32, (3,3), padding = 'same' ,activation= 'relu', input_shape =(64,64,3)))\n",
    "model_3.add(Conv2D(32, (3,3), activation = 'relu')) # we wont pad the images \n",
    "model_3.add(MaxPooling2D(pool_size = (2,2)))\n",
    "model_3.add(Dropout(0.25)) #0.25 to 0.50 works well\n",
    "\n",
    "model_3.add(Conv2D(64, (3,3), activation = 'relu', padding = 'same'))\n",
    "model_3.add(Conv2D(64, (3,3), activation = 'relu'))\n",
    "model_3.add(MaxPooling2D(pool_size = (2,2)))\n",
    "model_3.add(Dropout(0.25))\n",
    "\n",
    "model_3.add(Flatten())\n",
    "\n",
    "model_3.add(Dense(512, activation = 'relu'))\n",
    "model_3.add(Dropout(0.50)) #make it suffer to learn\n",
    "\n",
    "model_3.add(Dense(50, activation = 'softmax'))\n",
    "\n",
    "\n",
    "#print a summary of the model\n",
    "model_3.summary()"
   ]
  },
  {
   "cell_type": "code",
   "execution_count": 16,
   "id": "ba34a983",
   "metadata": {
    "execution": {
     "iopub.execute_input": "2024-06-20T17:56:35.690951Z",
     "iopub.status.busy": "2024-06-20T17:56:35.690339Z",
     "iopub.status.idle": "2024-06-20T18:56:33.853955Z",
     "shell.execute_reply": "2024-06-20T18:56:33.851190Z"
    },
    "papermill": {
     "duration": 3600.566744,
     "end_time": "2024-06-20T18:56:35.381665",
     "exception": false,
     "start_time": "2024-06-20T17:56:34.814921",
     "status": "completed"
    },
    "tags": []
   },
   "outputs": [
    {
     "name": "stdout",
     "output_type": "stream",
     "text": [
      "Epoch 1/10\n",
      "\u001b[1m1337/1337\u001b[0m \u001b[32m━━━━━━━━━━━━━━━━━━━━\u001b[0m\u001b[37m\u001b[0m \u001b[1m337s\u001b[0m 251ms/step - accuracy: 0.2837 - loss: 2.7904 - val_accuracy: 0.8584 - val_loss: 0.5340\n",
      "Epoch 2/10\n",
      "\u001b[1m1337/1337\u001b[0m \u001b[32m━━━━━━━━━━━━━━━━━━━━\u001b[0m\u001b[37m\u001b[0m \u001b[1m385s\u001b[0m 253ms/step - accuracy: 0.7839 - loss: 0.7508 - val_accuracy: 0.9537 - val_loss: 0.1736\n",
      "Epoch 3/10\n",
      "\u001b[1m1337/1337\u001b[0m \u001b[32m━━━━━━━━━━━━━━━━━━━━\u001b[0m\u001b[37m\u001b[0m \u001b[1m339s\u001b[0m 254ms/step - accuracy: 0.8793 - loss: 0.4070 - val_accuracy: 0.9695 - val_loss: 0.1093\n",
      "Epoch 4/10\n",
      "\u001b[1m1337/1337\u001b[0m \u001b[32m━━━━━━━━━━━━━━━━━━━━\u001b[0m\u001b[37m\u001b[0m \u001b[1m383s\u001b[0m 255ms/step - accuracy: 0.9117 - loss: 0.2884 - val_accuracy: 0.9731 - val_loss: 0.0959\n",
      "Epoch 5/10\n",
      "\u001b[1m1337/1337\u001b[0m \u001b[32m━━━━━━━━━━━━━━━━━━━━\u001b[0m\u001b[37m\u001b[0m \u001b[1m378s\u001b[0m 252ms/step - accuracy: 0.9299 - loss: 0.2264 - val_accuracy: 0.9833 - val_loss: 0.0634\n",
      "Epoch 6/10\n",
      "\u001b[1m1337/1337\u001b[0m \u001b[32m━━━━━━━━━━━━━━━━━━━━\u001b[0m\u001b[37m\u001b[0m \u001b[1m339s\u001b[0m 254ms/step - accuracy: 0.9417 - loss: 0.1857 - val_accuracy: 0.9869 - val_loss: 0.0528\n",
      "Epoch 7/10\n",
      "\u001b[1m1337/1337\u001b[0m \u001b[32m━━━━━━━━━━━━━━━━━━━━\u001b[0m\u001b[37m\u001b[0m \u001b[1m335s\u001b[0m 250ms/step - accuracy: 0.9479 - loss: 0.1718 - val_accuracy: 0.9876 - val_loss: 0.0472\n",
      "Epoch 8/10\n",
      "\u001b[1m1337/1337\u001b[0m \u001b[32m━━━━━━━━━━━━━━━━━━━━\u001b[0m\u001b[37m\u001b[0m \u001b[1m335s\u001b[0m 251ms/step - accuracy: 0.9503 - loss: 0.1524 - val_accuracy: 0.9885 - val_loss: 0.0448\n",
      "Epoch 9/10\n",
      "\u001b[1m1337/1337\u001b[0m \u001b[32m━━━━━━━━━━━━━━━━━━━━\u001b[0m\u001b[37m\u001b[0m \u001b[1m385s\u001b[0m 253ms/step - accuracy: 0.9580 - loss: 0.1367 - val_accuracy: 0.9899 - val_loss: 0.0386\n",
      "Epoch 10/10\n",
      "\u001b[1m1337/1337\u001b[0m \u001b[32m━━━━━━━━━━━━━━━━━━━━\u001b[0m\u001b[37m\u001b[0m \u001b[1m379s\u001b[0m 250ms/step - accuracy: 0.9581 - loss: 0.1367 - val_accuracy: 0.9875 - val_loss: 0.0446\n"
     ]
    },
    {
     "data": {
      "text/plain": [
       "<keras.src.callbacks.history.History at 0x7ce04c92f970>"
      ]
     },
     "execution_count": 16,
     "metadata": {},
     "output_type": "execute_result"
    }
   ],
   "source": [
    "model_3.compile(optimizer='adam', loss='sparse_categorical_crossentropy', metrics=['accuracy'])\n",
    "\n",
    "model_3.fit(X_train, y_train, epochs=10, batch_size=32, validation_split=0.2)"
   ]
  },
  {
   "cell_type": "markdown",
   "id": "1ad864d2",
   "metadata": {
    "papermill": {
     "duration": 1.717236,
     "end_time": "2024-06-20T18:56:38.818681",
     "exception": false,
     "start_time": "2024-06-20T18:56:37.101445",
     "status": "completed"
    },
    "tags": []
   },
   "source": []
  },
  {
   "cell_type": "code",
   "execution_count": 17,
   "id": "f91e4cab",
   "metadata": {
    "execution": {
     "iopub.execute_input": "2024-06-20T18:56:42.348033Z",
     "iopub.status.busy": "2024-06-20T18:56:42.347571Z",
     "iopub.status.idle": "2024-06-21T01:40:12.825288Z",
     "shell.execute_reply": "2024-06-21T01:40:12.822027Z"
    },
    "papermill": {
     "duration": 24212.194389,
     "end_time": "2024-06-21T01:40:12.828595",
     "exception": false,
     "start_time": "2024-06-20T18:56:40.634206",
     "status": "completed"
    },
    "tags": []
   },
   "outputs": [
    {
     "name": "stdout",
     "output_type": "stream",
     "text": [
      "Epoch 1/10\n",
      "\u001b[1m1337/1337\u001b[0m \u001b[32m━━━━━━━━━━━━━━━━━━━━\u001b[0m\u001b[37m\u001b[0m \u001b[1m1826s\u001b[0m 1s/step - accuracy: 0.5284 - loss: 1.9463 - val_accuracy: 0.9378 - val_loss: 0.2272\n",
      "Epoch 2/10\n",
      "\u001b[1m1337/1337\u001b[0m \u001b[32m━━━━━━━━━━━━━━━━━━━━\u001b[0m\u001b[37m\u001b[0m \u001b[1m1878s\u001b[0m 1s/step - accuracy: 0.9742 - loss: 0.0935 - val_accuracy: 0.9394 - val_loss: 0.2327\n",
      "Epoch 3/10\n",
      "\u001b[1m1337/1337\u001b[0m \u001b[32m━━━━━━━━━━━━━━━━━━━━\u001b[0m\u001b[37m\u001b[0m \u001b[1m1778s\u001b[0m 1s/step - accuracy: 0.9820 - loss: 0.0595 - val_accuracy: 0.9579 - val_loss: 0.1827\n",
      "Epoch 4/10\n",
      "\u001b[1m1337/1337\u001b[0m \u001b[32m━━━━━━━━━━━━━━━━━━━━\u001b[0m\u001b[37m\u001b[0m \u001b[1m1832s\u001b[0m 1s/step - accuracy: 0.9873 - loss: 0.0447 - val_accuracy: 0.9485 - val_loss: 0.2451\n",
      "Epoch 5/10\n",
      "\u001b[1m1337/1337\u001b[0m \u001b[32m━━━━━━━━━━━━━━━━━━━━\u001b[0m\u001b[37m\u001b[0m \u001b[1m1761s\u001b[0m 1s/step - accuracy: 0.9890 - loss: 0.0377 - val_accuracy: 0.9539 - val_loss: 0.2499\n",
      "Epoch 6/10\n",
      "\u001b[1m1337/1337\u001b[0m \u001b[32m━━━━━━━━━━━━━━━━━━━━\u001b[0m\u001b[37m\u001b[0m \u001b[1m1686s\u001b[0m 1s/step - accuracy: 0.9933 - loss: 0.0260 - val_accuracy: 0.9370 - val_loss: 0.3119\n",
      "Epoch 7/10\n",
      "\u001b[1m1337/1337\u001b[0m \u001b[32m━━━━━━━━━━━━━━━━━━━━\u001b[0m\u001b[37m\u001b[0m \u001b[1m1680s\u001b[0m 1s/step - accuracy: 0.9928 - loss: 0.0238 - val_accuracy: 0.9458 - val_loss: 0.3298\n",
      "Epoch 8/10\n",
      "\u001b[1m1337/1337\u001b[0m \u001b[32m━━━━━━━━━━━━━━━━━━━━\u001b[0m\u001b[37m\u001b[0m \u001b[1m1666s\u001b[0m 1s/step - accuracy: 0.9941 - loss: 0.0215 - val_accuracy: 0.9564 - val_loss: 0.2778\n",
      "Epoch 9/10\n",
      "\u001b[1m1337/1337\u001b[0m \u001b[32m━━━━━━━━━━━━━━━━━━━━\u001b[0m\u001b[37m\u001b[0m \u001b[1m1730s\u001b[0m 1s/step - accuracy: 0.9948 - loss: 0.0204 - val_accuracy: 0.9537 - val_loss: 0.2831\n",
      "Epoch 10/10\n",
      "\u001b[1m1337/1337\u001b[0m \u001b[32m━━━━━━━━━━━━━━━━━━━━\u001b[0m\u001b[37m\u001b[0m \u001b[1m1725s\u001b[0m 1s/step - accuracy: 0.9957 - loss: 0.0170 - val_accuracy: 0.9496 - val_loss: 0.3168\n",
      "Epoch 1/10\n",
      "\u001b[1m1337/1337\u001b[0m \u001b[32m━━━━━━━━━━━━━━━━━━━━\u001b[0m\u001b[37m\u001b[0m \u001b[1m313s\u001b[0m 232ms/step - accuracy: 0.5121 - loss: 1.9108 - val_accuracy: 0.9587 - val_loss: 0.1446\n",
      "Epoch 2/10\n",
      "\u001b[1m1337/1337\u001b[0m \u001b[32m━━━━━━━━━━━━━━━━━━━━\u001b[0m\u001b[37m\u001b[0m \u001b[1m327s\u001b[0m 236ms/step - accuracy: 0.9706 - loss: 0.1032 - val_accuracy: 0.9680 - val_loss: 0.1164\n",
      "Epoch 3/10\n",
      "\u001b[1m1337/1337\u001b[0m \u001b[32m━━━━━━━━━━━━━━━━━━━━\u001b[0m\u001b[37m\u001b[0m \u001b[1m317s\u001b[0m 232ms/step - accuracy: 0.9827 - loss: 0.0582 - val_accuracy: 0.9778 - val_loss: 0.0933\n",
      "Epoch 4/10\n",
      "\u001b[1m1337/1337\u001b[0m \u001b[32m━━━━━━━━━━━━━━━━━━━━\u001b[0m\u001b[37m\u001b[0m \u001b[1m310s\u001b[0m 232ms/step - accuracy: 0.9859 - loss: 0.0468 - val_accuracy: 0.9771 - val_loss: 0.1043\n",
      "Epoch 5/10\n",
      "\u001b[1m1337/1337\u001b[0m \u001b[32m━━━━━━━━━━━━━━━━━━━━\u001b[0m\u001b[37m\u001b[0m \u001b[1m308s\u001b[0m 230ms/step - accuracy: 0.9879 - loss: 0.0415 - val_accuracy: 0.9723 - val_loss: 0.1137\n",
      "Epoch 6/10\n",
      "\u001b[1m1337/1337\u001b[0m \u001b[32m━━━━━━━━━━━━━━━━━━━━\u001b[0m\u001b[37m\u001b[0m \u001b[1m309s\u001b[0m 231ms/step - accuracy: 0.9917 - loss: 0.0298 - val_accuracy: 0.9721 - val_loss: 0.1295\n",
      "Epoch 7/10\n",
      "\u001b[1m1337/1337\u001b[0m \u001b[32m━━━━━━━━━━━━━━━━━━━━\u001b[0m\u001b[37m\u001b[0m \u001b[1m324s\u001b[0m 233ms/step - accuracy: 0.9920 - loss: 0.0284 - val_accuracy: 0.9801 - val_loss: 0.0992\n",
      "Epoch 8/10\n",
      "\u001b[1m1337/1337\u001b[0m \u001b[32m━━━━━━━━━━━━━━━━━━━━\u001b[0m\u001b[37m\u001b[0m \u001b[1m327s\u001b[0m 237ms/step - accuracy: 0.9926 - loss: 0.0260 - val_accuracy: 0.9783 - val_loss: 0.1059\n",
      "Epoch 9/10\n",
      "\u001b[1m1337/1337\u001b[0m \u001b[32m━━━━━━━━━━━━━━━━━━━━\u001b[0m\u001b[37m\u001b[0m \u001b[1m318s\u001b[0m 238ms/step - accuracy: 0.9940 - loss: 0.0223 - val_accuracy: 0.9786 - val_loss: 0.0986\n",
      "Epoch 10/10\n",
      "\u001b[1m1337/1337\u001b[0m \u001b[32m━━━━━━━━━━━━━━━━━━━━\u001b[0m\u001b[37m\u001b[0m \u001b[1m314s\u001b[0m 235ms/step - accuracy: 0.9958 - loss: 0.0147 - val_accuracy: 0.9689 - val_loss: 0.1644\n",
      "Epoch 1/10\n",
      "\u001b[1m1337/1337\u001b[0m \u001b[32m━━━━━━━━━━━━━━━━━━━━\u001b[0m\u001b[37m\u001b[0m \u001b[1m323s\u001b[0m 241ms/step - accuracy: 0.9619 - loss: 0.1267 - val_accuracy: 0.9895 - val_loss: 0.0470\n",
      "Epoch 2/10\n",
      "\u001b[1m1337/1337\u001b[0m \u001b[32m━━━━━━━━━━━━━━━━━━━━\u001b[0m\u001b[37m\u001b[0m \u001b[1m320s\u001b[0m 239ms/step - accuracy: 0.9650 - loss: 0.1124 - val_accuracy: 0.9904 - val_loss: 0.0327\n",
      "Epoch 3/10\n",
      "\u001b[1m1337/1337\u001b[0m \u001b[32m━━━━━━━━━━━━━━━━━━━━\u001b[0m\u001b[37m\u001b[0m \u001b[1m318s\u001b[0m 238ms/step - accuracy: 0.9665 - loss: 0.1103 - val_accuracy: 0.9900 - val_loss: 0.0374\n",
      "Epoch 4/10\n",
      "\u001b[1m1337/1337\u001b[0m \u001b[32m━━━━━━━━━━━━━━━━━━━━\u001b[0m\u001b[37m\u001b[0m \u001b[1m326s\u001b[0m 241ms/step - accuracy: 0.9693 - loss: 0.1013 - val_accuracy: 0.9907 - val_loss: 0.0377\n",
      "Epoch 5/10\n",
      "\u001b[1m1337/1337\u001b[0m \u001b[32m━━━━━━━━━━━━━━━━━━━━\u001b[0m\u001b[37m\u001b[0m \u001b[1m376s\u001b[0m 237ms/step - accuracy: 0.9712 - loss: 0.0963 - val_accuracy: 0.9911 - val_loss: 0.0307\n",
      "Epoch 6/10\n",
      "\u001b[1m1337/1337\u001b[0m \u001b[32m━━━━━━━━━━━━━━━━━━━━\u001b[0m\u001b[37m\u001b[0m \u001b[1m317s\u001b[0m 237ms/step - accuracy: 0.9730 - loss: 0.0893 - val_accuracy: 0.9916 - val_loss: 0.0316\n",
      "Epoch 7/10\n",
      "\u001b[1m1337/1337\u001b[0m \u001b[32m━━━━━━━━━━━━━━━━━━━━\u001b[0m\u001b[37m\u001b[0m \u001b[1m329s\u001b[0m 243ms/step - accuracy: 0.9730 - loss: 0.0918 - val_accuracy: 0.9914 - val_loss: 0.0366\n",
      "Epoch 8/10\n",
      "\u001b[1m1337/1337\u001b[0m \u001b[32m━━━━━━━━━━━━━━━━━━━━\u001b[0m\u001b[37m\u001b[0m \u001b[1m383s\u001b[0m 243ms/step - accuracy: 0.9730 - loss: 0.0896 - val_accuracy: 0.9920 - val_loss: 0.0311\n",
      "Epoch 9/10\n",
      "\u001b[1m1337/1337\u001b[0m \u001b[32m━━━━━━━━━━━━━━━━━━━━\u001b[0m\u001b[37m\u001b[0m \u001b[1m388s\u001b[0m 248ms/step - accuracy: 0.9746 - loss: 0.0829 - val_accuracy: 0.9907 - val_loss: 0.0342\n",
      "Epoch 10/10\n",
      "\u001b[1m1337/1337\u001b[0m \u001b[32m━━━━━━━━━━━━━━━━━━━━\u001b[0m\u001b[37m\u001b[0m \u001b[1m382s\u001b[0m 248ms/step - accuracy: 0.9743 - loss: 0.0818 - val_accuracy: 0.9911 - val_loss: 0.0319\n"
     ]
    }
   ],
   "source": [
    "for model in [model_1, model_2, model_3]:\n",
    "    # Compile model\n",
    "    model.compile(optimizer='adam', loss='sparse_categorical_crossentropy', metrics=['accuracy'])\n",
    "    # Train model - HYPERPARAMETERS\n",
    "    model.fit(X_train, y_train, epochs=10, batch_size=32, validation_split=0.2)"
   ]
  },
  {
   "cell_type": "code",
   "execution_count": 18,
   "id": "60a5ad25",
   "metadata": {
    "execution": {
     "iopub.execute_input": "2024-06-21T01:40:21.521190Z",
     "iopub.status.busy": "2024-06-21T01:40:21.520611Z",
     "iopub.status.idle": "2024-06-21T01:42:47.838686Z",
     "shell.execute_reply": "2024-06-21T01:42:47.837316Z"
    },
    "papermill": {
     "duration": 150.637862,
     "end_time": "2024-06-21T01:42:47.840456",
     "exception": false,
     "start_time": "2024-06-21T01:40:17.202594",
     "status": "completed"
    },
    "tags": []
   },
   "outputs": [
    {
     "name": "stdout",
     "output_type": "stream",
     "text": [
      "\u001b[1m418/418\u001b[0m \u001b[32m━━━━━━━━━━━━━━━━━━━━\u001b[0m\u001b[37m\u001b[0m \u001b[1m92s\u001b[0m 219ms/step - accuracy: 0.9484 - loss: 0.3201\n",
      "Test Accuracy for model 1: 0.9479119777679443\n",
      "\u001b[1m418/418\u001b[0m \u001b[32m━━━━━━━━━━━━━━━━━━━━\u001b[0m\u001b[37m\u001b[0m \u001b[1m24s\u001b[0m 58ms/step - accuracy: 0.9744 - loss: 0.1310\n",
      "Test Accuracy for model 2: 0.9735069870948792\n",
      "\u001b[1m418/418\u001b[0m \u001b[32m━━━━━━━━━━━━━━━━━━━━\u001b[0m\u001b[37m\u001b[0m \u001b[1m25s\u001b[0m 60ms/step - accuracy: 0.9924 - loss: 0.0282\n",
      "Test Accuracy for model 3: 0.9923664331436157\n"
     ]
    }
   ],
   "source": [
    "for model,i in zip([model_1, model_2, model_3],[1,2,3]):\n",
    "# Evaluate model on test set\n",
    "    test_loss, test_accuracy = model.evaluate(X_test, y_test)\n",
    "    print(f\"Test Accuracy for model {i}:\", test_accuracy)"
   ]
  },
  {
   "cell_type": "code",
   "execution_count": 19,
   "id": "d3c11c7b",
   "metadata": {
    "execution": {
     "iopub.execute_input": "2024-06-21T01:42:56.617878Z",
     "iopub.status.busy": "2024-06-21T01:42:56.617552Z",
     "iopub.status.idle": "2024-06-21T01:42:56.624153Z",
     "shell.execute_reply": "2024-06-21T01:42:56.622689Z"
    },
    "papermill": {
     "duration": 4.400994,
     "end_time": "2024-06-21T01:42:56.626290",
     "exception": false,
     "start_time": "2024-06-21T01:42:52.225296",
     "status": "completed"
    },
    "tags": []
   },
   "outputs": [],
   "source": [
    "# confusion matrix for the 3 different models"
   ]
  }
 ],
 "metadata": {
  "kaggle": {
   "accelerator": "none",
   "dataSources": [
    {
     "datasetId": 3925445,
     "sourceId": 6826584,
     "sourceType": "datasetVersion"
    }
   ],
   "dockerImageVersionId": 30732,
   "isGpuEnabled": false,
   "isInternetEnabled": true,
   "language": "python",
   "sourceType": "notebook"
  },
  "kernelspec": {
   "display_name": "Python 3",
   "language": "python",
   "name": "python3"
  },
  "language_info": {
   "codemirror_mode": {
    "name": "ipython",
    "version": 3
   },
   "file_extension": ".py",
   "mimetype": "text/x-python",
   "name": "python",
   "nbconvert_exporter": "python",
   "pygments_lexer": "ipython3",
   "version": "3.10.13"
  },
  "papermill": {
   "default_parameters": {},
   "duration": 29130.03017,
   "end_time": "2024-06-21T01:43:04.792157",
   "environment_variables": {},
   "exception": null,
   "input_path": "__notebook__.ipynb",
   "output_path": "__notebook__.ipynb",
   "parameters": {},
   "start_time": "2024-06-20T17:37:34.761987",
   "version": "2.5.0"
  }
 },
 "nbformat": 4,
 "nbformat_minor": 5
}
